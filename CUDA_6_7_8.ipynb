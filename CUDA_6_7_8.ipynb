{
  "nbformat": 4,
  "nbformat_minor": 0,
  "metadata": {
    "colab": {
      "name": "CUDA template.ipynb",
      "provenance": [],
      "collapsed_sections": [],
      "authorship_tag": "ABX9TyONoyXSrh3Zhu8sZwgJYEWb",
      "include_colab_link": true
    },
    "kernelspec": {
      "name": "python3",
      "display_name": "Python 3"
    },
    "language_info": {
      "name": "python"
    },
    "accelerator": "GPU"
  },
  "cells": [
    {
      "cell_type": "markdown",
      "metadata": {
        "id": "view-in-github",
        "colab_type": "text"
      },
      "source": [
        "<a href=\"https://colab.research.google.com/github/EstSov/PP/blob/main/CUDA_6_7_8.ipynb\" target=\"_parent\"><img src=\"https://colab.research.google.com/assets/colab-badge.svg\" alt=\"Open In Colab\"/></a>"
      ]
    },
    {
      "cell_type": "code",
      "execution_count": 1,
      "metadata": {
        "colab": {
          "base_uri": "https://localhost:8080/"
        },
        "id": "1jPFJ08wvyZ5",
        "outputId": "f12e2e69-7697-470d-c727-ff4f17fea8da"
      },
      "outputs": [
        {
          "output_type": "stream",
          "name": "stdout",
          "text": [
            "/usr/local\n",
            "  File: cuda -> /usr/local/cuda-10.1\n",
            "  Size: 20        \tBlocks: 0          IO Block: 4096   symbolic link\n",
            "Device: 24h/36d\tInode: 4849667     Links: 1\n",
            "Access: (0777/lrwxrwxrwx)  Uid: (    0/    root)   Gid: (    0/    root)\n",
            "Access: 2022-05-20 08:29:56.601124853 +0000\n",
            "Modify: 2022-05-20 08:29:56.498114985 +0000\n",
            "Change: 2022-05-20 08:29:56.498114985 +0000\n",
            " Birth: -\n",
            "Collecting git+https://github.com/andreinechaev/nvcc4jupyter.git\n",
            "  Cloning https://github.com/andreinechaev/nvcc4jupyter.git to /tmp/pip-req-build-u7edbbd_\n",
            "  Running command git clone -q https://github.com/andreinechaev/nvcc4jupyter.git /tmp/pip-req-build-u7edbbd_\n",
            "Building wheels for collected packages: NVCCPlugin\n",
            "  Building wheel for NVCCPlugin (setup.py) ... \u001b[?25l\u001b[?25hdone\n",
            "  Created wheel for NVCCPlugin: filename=NVCCPlugin-0.0.2-py3-none-any.whl size=4306 sha256=9f97626316803f01caf31f4b1f08df0997949fc32ae5aa41904d7328df1896ee\n",
            "  Stored in directory: /tmp/pip-ephem-wheel-cache-w2hr61p0/wheels/ca/33/8d/3c86eb85e97d2b6169d95c6e8f2c297fdec60db6e84cb56f5e\n",
            "Successfully built NVCCPlugin\n",
            "Installing collected packages: NVCCPlugin\n",
            "Successfully installed NVCCPlugin-0.0.2\n",
            "directory /usr/local/src already exists\n",
            "Out bin /usr/local/result.out\n"
          ]
        }
      ],
      "source": [
        "%cd /usr/local/\n",
        "!rm -rf cuda\n",
        "!ln -s /usr/local/cuda-10.1 /usr/local/cuda\n",
        "!stat cuda\n",
        "!pip install git+https://github.com/andreinechaev/nvcc4jupyter.git\n",
        "%load_ext nvcc_plugin"
      ]
    },
    {
      "cell_type": "code",
      "source": [
        "!nvcc --version"
      ],
      "metadata": {
        "colab": {
          "base_uri": "https://localhost:8080/"
        },
        "id": "JqGOgYMPwLB3",
        "outputId": "5813ac73-fdaa-471d-c5a8-ce6255014101"
      },
      "execution_count": 2,
      "outputs": [
        {
          "output_type": "stream",
          "name": "stdout",
          "text": [
            "nvcc: NVIDIA (R) Cuda compiler driver\n",
            "Copyright (c) 2005-2019 NVIDIA Corporation\n",
            "Built on Sun_Jul_28_19:07:16_PDT_2019\n",
            "Cuda compilation tools, release 10.1, V10.1.243\n"
          ]
        }
      ]
    },
    {
      "cell_type": "code",
      "source": [
        "%%cu\n",
        "#include <iostream>\n",
        "int main() {\n",
        "    std::cout << \"Hello world\\n\";\n",
        "    return 0;\n",
        "}"
      ],
      "metadata": {
        "colab": {
          "base_uri": "https://localhost:8080/"
        },
        "id": "D4olgwUNwOav",
        "outputId": "0bca7e25-03fb-491e-8bf6-ede391ae3c84"
      },
      "execution_count": 3,
      "outputs": [
        {
          "output_type": "stream",
          "name": "stdout",
          "text": [
            "Hello world\n",
            "\n"
          ]
        }
      ]
    },
    {
      "cell_type": "markdown",
      "source": [
        "С помощью технологии CUDA реализовать параллельный вариант перемножения матриц.\n",
        "Сравнить время выполнения алгоритма (N=100, 1k, 2k):\n",
        "1. Ваш вариант на GPU.\n",
        "2. Обычное перемножение матриц на CPU (плюс сравнить результаты численно)."
      ],
      "metadata": {
        "id": "2_kq92eegEIS"
      }
    },
    {
      "cell_type": "code",
      "source": [
        "%%cu\n",
        "#include \"cuda_runtime.h\"\n",
        "#include \"device_launch_parameters.h\"\n",
        "#include <stdio.h>\n",
        "\n",
        "#include <iostream>\n",
        "#include <ctime>\n",
        "\n",
        "\n",
        "void Error(cudaError_t err) {\n",
        "\tif (err != cudaSuccess) {\n",
        "\t\tprintf(\"%s\\n\", cudaGetErrorString(err));\n",
        "\t\texit(-1);\n",
        "\t}\n",
        "}\n",
        "\n",
        "__global__ void kernel(int *a, int *b, int *c, int count) {\n",
        "\tint i = threadIdx.y + blockIdx.y * blockDim.y;\n",
        "\tint j = threadIdx.x + blockIdx.x * blockDim.x;\n",
        "\tc[i * count + j] = 0;\n",
        "\tfor (int k = 0; k < count; k++) {\n",
        "\t\tc[i * count + j] += a[i * count + k] * b[k * count + j];\n",
        "\t}\n",
        "}\n",
        "\n",
        "int main() {\n",
        "\n",
        "  cudaEvent_t start, stop;\n",
        "  cudaEventCreate(&start);\n",
        "  cudaEventCreate(&stop);\n",
        "\n",
        "\tsrand(time(0));\n",
        "\tint N = 2000;\n",
        "\tint size = 2;\n",
        "\tdim3 block(N / size, N / size);\n",
        "\tdim3 threads(size, size);\n",
        "\tint *dev_c, *dev_a, *dev_b;\n",
        "\tint *a, *b, *c, *c1;\n",
        "\ta = new int[N * N];\n",
        "\tb = new int[N * N];\n",
        "\tc = new int[N * N];\n",
        "  c1 = new int[N * N];\n",
        "\tfor (int i = 0; i < N; i++) {\n",
        "\t\tfor (int j = 0; j < N; j++) {\n",
        "\t\t\ta[i*N + j] = rand() % 10;\n",
        "\t\t\tb[i*N + j] = rand() % 10;\n",
        "\t\t}\n",
        "\t}\n",
        "\n",
        "\n",
        "\n",
        "/*\tstd::cout << \"A\" << std::endl;\n",
        "\tfor (int i = 0; i < N; i++) {\n",
        "\t\tfor (int j = 0; j < N; j++) {\n",
        "\t\t\tstd::cout << a[i*N + j] << \"  \";\n",
        "\t\t}\n",
        "\t\tstd::cout << std::endl;\n",
        "\t}\n",
        "\tstd::cout << \"B\" << std::endl;\n",
        "\tfor (int i = 0; i < N; i++) {\n",
        "\t\tfor (int j = 0; j < N; j++) {\n",
        "\t\t\tstd::cout << b[i*N + j] << \"  \";\n",
        "\t\t}\n",
        "\t\tstd::cout << std::endl;\n",
        "\t}*/\n",
        "\n",
        " cudaEventRecord(start);\n",
        "\n",
        "\t//int time = GetTickCount();\n",
        "\tError(cudaMalloc((void **)&dev_c, sizeof(int) * N * N));\n",
        "\tError(cudaMalloc((void **)&dev_b, sizeof(int) * N * N));\n",
        "\tError(cudaMalloc((void **)&dev_a, sizeof(int) * N * N));\n",
        "\tError(cudaMemcpy(dev_a, a, sizeof(int) * N * N, cudaMemcpyHostToDevice));\n",
        "\tError(cudaMemcpy(dev_b, b, sizeof(int) * N * N, cudaMemcpyHostToDevice));\n",
        "\tkernel << <block, threads >> > (dev_a, dev_b, dev_c, N);\n",
        "\tError(cudaGetLastError());\n",
        "\tError(cudaDeviceSynchronize());\n",
        "\tError(cudaMemcpy(c, dev_c, sizeof(int) * N * N, cudaMemcpyDeviceToHost));\n",
        "\t//std::cout << \"Time: \" << GetTickCount() - time << std::endl;\n",
        "\n",
        "    cudaEventRecord(stop);\n",
        "  cudaEventSynchronize(stop);\n",
        "  cudaDeviceSynchronize();\n",
        "\n",
        " float milliseconds = 0;\n",
        "  cudaEventElapsedTime(&milliseconds, start, stop);\n",
        "std::cout <<\"time: %f (s)\\n\" << milliseconds/1000;\n",
        "\n",
        "\n",
        "/*std::cout << \"C\" << std::endl;\n",
        "\tfor (int i = 0; i < N; i++) {\n",
        "\t\tfor (int j = 0; j < N; j++) {\n",
        "\t\t\tstd::cout << c[i*N + j] << \"  \";\n",
        "\t\t}\n",
        "\t\tstd::cout << std::endl;\n",
        "  }*/\n",
        "\n",
        "\n",
        "\n",
        "\tError(cudaFree(dev_c));\n",
        "\tError(cudaFree(dev_b));\n",
        "\tError(cudaFree(dev_a));\n",
        "\n",
        "\t\n",
        "\treturn 0;\n",
        "\n",
        "\n",
        "}"
      ],
      "metadata": {
        "id": "WZcjDSw_xByy",
        "colab": {
          "base_uri": "https://localhost:8080/"
        },
        "outputId": "3d3232ce-5910-45e1-efa5-23e4c10df2e2"
      },
      "execution_count": 4,
      "outputs": [
        {
          "output_type": "stream",
          "name": "stdout",
          "text": [
            "time: %f (s)\n",
            "1.10738\n"
          ]
        }
      ]
    },
    {
      "cell_type": "markdown",
      "source": [
        "N = 100\n",
        "time = 0.00108493 \n",
        "N = 1000\n",
        "time = 0.672228 \n",
        "N = 2000\n",
        "time = 4.61971"
      ],
      "metadata": {
        "id": "_JxxXZYckt9N"
      }
    },
    {
      "cell_type": "markdown",
      "source": [
        "![image.png](data:image/png;base64,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)"
      ],
      "metadata": {
        "id": "6mewAakqrt_w"
      }
    },
    {
      "cell_type": "markdown",
      "source": [
        "С помощью технологии CUDA реализовать параллельный вариант перемножения матриц.\n",
        "Использовать shared-память.\n",
        "Сравнить время выполнения алгоритма (N=100, 1k, 2k):\n",
        "1. Ваш предыдущий вариант на GPU (без shared-памяти).\n",
        "2. Ваш текущий вариант на GPU (с shared-памятью).\n",
        "2. На CPU (плюс сравнить результаты численно)."
      ],
      "metadata": {
        "id": "lQGI-4wm9mh4"
      }
    },
    {
      "cell_type": "code",
      "source": [
        "%%cu\n",
        "#include \"cuda_runtime.h\"\n",
        "#include \"device_launch_parameters.h\"\n",
        "#include <stdio.h>\n",
        "\n",
        "#include <iostream>\n",
        "#include <ctime>\n",
        "\n",
        "const int SIZE_OF_BLOCK = 16;\n",
        "\n",
        "void Error(cudaError_t err) {\n",
        "\tif (err != cudaSuccess) {\n",
        "\t\tprintf(\"%s\\n\", cudaGetErrorString(err));\n",
        "\t\texit(-1);\n",
        "\t}\n",
        "}\n",
        "\n",
        "__global__ void kernel() {\n",
        "}\n",
        "\n",
        "__global__ void matMult(int *A, int *B, int *C, int N) {\n",
        "\tint A_begin = N * SIZE_OF_BLOCK;\n",
        "\tA_begin = A_begin * blockIdx.y;\n",
        "\tint A_end = A_begin + N - 1;\n",
        "\tint B_begin = SIZE_OF_BLOCK;\n",
        "\tB_begin = B_begin * blockIdx.x;\n",
        "\tint A_step = SIZE_OF_BLOCK;\n",
        "\tint B_step = SIZE_OF_BLOCK * N;\n",
        "\tint sum = 0;\n",
        "\n",
        "\t__shared__ int A_shared[SIZE_OF_BLOCK][SIZE_OF_BLOCK];\n",
        "\t__shared__ int B_shared[SIZE_OF_BLOCK][SIZE_OF_BLOCK];\n",
        "\tfor (int i_A = A_begin, i_B = B_begin; i_A <= A_end; i_A += A_step, i_B += B_step) {\n",
        "\t\tA_shared[threadIdx.y][threadIdx.x] = A[i_A + N * threadIdx.y + threadIdx.x];\n",
        "\t\tB_shared[threadIdx.y][threadIdx.x] = B[i_B + N * threadIdx.y + threadIdx.x];\n",
        "\t\t__syncthreads();\n",
        "\t\tfor (int k = 0; k < SIZE_OF_BLOCK; k++) {\n",
        "\t\t\tsum += A_shared[threadIdx.y][k] * B_shared[k][threadIdx.x];\n",
        "\t\t}\n",
        "\t\t__syncthreads();\n",
        "\t\tC[N * SIZE_OF_BLOCK * blockIdx.y + SIZE_OF_BLOCK * blockIdx.x + N * threadIdx.y + threadIdx.x] = sum;\n",
        "\t}\n",
        "}\n",
        "int main() {\n",
        "\tsrand(time(0));\n",
        "\tint N = 2000;\n",
        "\n",
        "   cudaEvent_t start, stop;\n",
        "  cudaEventCreate(&start);\n",
        "  cudaEventCreate(&stop);\n",
        "\tstd::cout << \"Size \" << N << std::endl;\n",
        "\tdim3 block(N / SIZE_OF_BLOCK, N / SIZE_OF_BLOCK);\n",
        "\tdim3 threads(SIZE_OF_BLOCK, SIZE_OF_BLOCK);\n",
        "\tint *dev_c, *dev_a, *dev_b;\n",
        "\tint *a, *b, *c;\n",
        "\ta = new int[N * N];\n",
        "\tb = new int[N * N];\n",
        "\tc = new int[N * N];\n",
        "\tfor (int i = 0; i < N; i++) {\n",
        "\t\tfor (int j = 0; j < N; j++) {\n",
        "\t\t\ta[i*N + j] = rand() % 10;\n",
        "\t\t\tb[i*N + j] = rand() % 10;\n",
        "\t\t}\n",
        "\t}\n",
        "\n",
        "\t\n",
        "  cudaEventRecord(start);\n",
        "\tError(cudaMalloc((void **)&dev_c, sizeof(int) * N * N));\n",
        "\tError(cudaMalloc((void **)&dev_b, sizeof(int) * N * N));\n",
        "\tError(cudaMalloc((void **)&dev_a, sizeof(int) * N * N));\n",
        "\tError(cudaMemcpy(dev_a, a, sizeof(int) * N * N, cudaMemcpyHostToDevice));\n",
        "\tError(cudaMemcpy(dev_b, b, sizeof(int) * N * N, cudaMemcpyHostToDevice));\n",
        "\t\n",
        "\tmatMult << <block, threads >> > (dev_a, dev_b, dev_c, N);\n",
        "\tError(cudaGetLastError());\n",
        "\tError(cudaMemcpy(c, dev_c, sizeof(int) * N * N, cudaMemcpyDeviceToHost));\n",
        "\n",
        "    cudaEventRecord(stop);\n",
        "  cudaEventSynchronize(stop);\n",
        "  cudaDeviceSynchronize();\n",
        "\n",
        " float milliseconds = 0;\n",
        "  cudaEventElapsedTime(&milliseconds, start, stop);\n",
        "std::cout <<\"time: %f (s)\\n\" << milliseconds/1000;\n",
        "\n",
        "\tError(cudaFree(dev_c));\n",
        "\tError(cudaFree(dev_b));\n",
        "\tError(cudaFree(dev_a));\n",
        "\n",
        "\n",
        "\treturn 0;\n",
        "\n",
        "}"
      ],
      "metadata": {
        "id": "9cDXuzqJ9NWR",
        "colab": {
          "base_uri": "https://localhost:8080/"
        },
        "outputId": "2f60202a-1c80-49ef-f5f7-b0bfa5e2044d"
      },
      "execution_count": 5,
      "outputs": [
        {
          "output_type": "stream",
          "name": "stdout",
          "text": [
            "Size 2000\n",
            "time: %f (s)\n",
            "0.0599855\n"
          ]
        }
      ]
    },
    {
      "cell_type": "markdown",
      "source": [
        "N = 100 time = 0.0002 N = 1000 time = 0.00872675 N = 2000 time = 0.0596952"
      ],
      "metadata": {
        "id": "AMHJrx2c9BLI"
      }
    },
    {
      "cell_type": "markdown",
      "source": [
        "С помощью технологии CUDA реализовать параллельный вариант алгоритма Флойда.\n",
        "Сравнить время выполнения алгоритма (N=100, 1k, 2k):\n",
        "1. Ваш вариант на GPU.\n",
        "2. На CPU (плюс сравнить результаты численно)."
      ],
      "metadata": {
        "id": "5VHFQNn9oNDB"
      }
    },
    {
      "cell_type": "code",
      "source": [
        "%%cu\n",
        "#include \"cuda_runtime.h\"\n",
        "#include \"device_launch_parameters.h\"\n",
        "#include <stdio.h>\n",
        "\n",
        "#include <iostream>\n",
        "#include <ctime>\n",
        "#include <algorithm>\n",
        "#include <iomanip>\n",
        "\n",
        "void Error(cudaError_t err) {\n",
        "\tif (err != cudaSuccess) {\n",
        "\t\tprintf(\"%s\\n\", cudaGetErrorString(err));\n",
        "\t\texit(-1);\n",
        "\t}\n",
        "}\n",
        "\n",
        "__global__ void kernel(int *G, int count, int k) {\n",
        "\tint i = threadIdx.y + blockIdx.y * blockDim.y;\n",
        "\tint j = threadIdx.x + blockIdx.x * blockDim.x;\n",
        "\tG[i * count + j] = min(G[i * count + j], G[i * count + k] + G[k * count + j]);\n",
        "}\n",
        "__global__ void kernel() {\n",
        "}\n",
        "int main() {\n",
        " cudaEvent_t start, stop;\n",
        "  cudaEventCreate(&start);\n",
        "  cudaEventCreate(&stop);\n",
        "\tint N = 2000;\n",
        "\tsrand(time(0));\n",
        "\tint size = 20;\n",
        "\tdim3 block(N / size, N / size);\n",
        "\tdim3 threads(size, size);\n",
        "\tint *dev_G;\n",
        "\tint *G;\n",
        "\tG = new int[N * N];\n",
        "\tfor (size_t i = 0; i < N; i++) {\n",
        "\t\tfor (size_t j = 0; j < N; j++) {\n",
        "\t\t\tif (i != j) {\n",
        "\t\t\t\tG[i*N + j] = rand() % 100;\n",
        "\t\t\t}\n",
        "\t\t\telse\n",
        "\t\t\t\tG[i*N + j] = 0;\n",
        "\t\t}\n",
        "\t}\n",
        "\n",
        "\tkernel << <block, threads >> > ();\n",
        "\tError(cudaGetLastError());\n",
        "\tError(cudaDeviceSynchronize());\n",
        "\t\n",
        "\tError(cudaMalloc((void **)&dev_G, sizeof(int) * N * N));\n",
        "\tError(cudaMemcpy(dev_G, G, sizeof(int) * N * N, cudaMemcpyHostToDevice));\n",
        "\tcudaEventRecord(start);\n",
        "\tfor (int i = 0; i < N; i++) {\n",
        "\t\tkernel << <block, threads >> > (dev_G, N, i);\n",
        "\t\tError(cudaGetLastError());\n",
        "\t\tError(cudaDeviceSynchronize());\n",
        "\t}\n",
        "\tError(cudaMemcpy(G, dev_G, sizeof(int) * N * N, cudaMemcpyDeviceToHost));\n",
        "\t    cudaEventRecord(stop);\n",
        "  cudaEventSynchronize(stop);\n",
        "  cudaDeviceSynchronize();\n",
        "\n",
        " float milliseconds = 0;\n",
        "  cudaEventElapsedTime(&milliseconds, start, stop);\n",
        "std::cout <<\"time: %f (s)\\n\" << milliseconds/1000;\n",
        "\n",
        "\tError(cudaFree(dev_G));\n",
        "\n",
        "\tsystem(\"pause\");\n",
        "\treturn 0;\n",
        "\n",
        "}"
      ],
      "metadata": {
        "id": "Lo987EUc9kk5",
        "colab": {
          "base_uri": "https://localhost:8080/"
        },
        "outputId": "ae3b5ee3-db73-447c-86a9-f971d44d2e5d"
      },
      "execution_count": 9,
      "outputs": [
        {
          "output_type": "stream",
          "name": "stdout",
          "text": [
            "sh: 1: pause: not found\n",
            "time: %f (s)\n",
            "0.380389\n"
          ]
        }
      ]
    },
    {
      "cell_type": "markdown",
      "source": [
        "N = 100 time = 0.00104922 N = 1000 time = 0.0509755 N = 2000 time = 0.380389"
      ],
      "metadata": {
        "id": "MS75Ft0No6MR"
      }
    }
  ]
}